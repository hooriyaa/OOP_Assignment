{
 "cells": [
  {
   "cell_type": "code",
   "execution_count": 1,
   "id": "fbd4ab43",
   "metadata": {},
   "outputs": [
    {
     "name": "stdout",
     "output_type": "stream",
     "text": [
      "Original price: 100\n",
      "Updated price: 150\n",
      "Error: Price can't be negative\n",
      "Deleting price...\n"
     ]
    }
   ],
   "source": [
    "# 18. Property Decorators\n",
    "class Product:\n",
    "    def __init__(self, price):\n",
    "        self._price = price\n",
    "    \n",
    "    @property\n",
    "    def price(self):\n",
    "        return self._price\n",
    "    \n",
    "    @price.setter\n",
    "    def price(self, value):\n",
    "        if value >= 0:\n",
    "            self._price = value\n",
    "        else:\n",
    "            raise ValueError(\"Price can't be negative\")\n",
    "    \n",
    "    @price.deleter\n",
    "    def price(self):\n",
    "        print(\"Deleting price...\")\n",
    "        del self._price\n",
    "\n",
    "# Test\n",
    "product = Product(100)\n",
    "print(\"Original price:\", product.price)\n",
    "product.price = 150\n",
    "print(\"Updated price:\", product.price)\n",
    "try:\n",
    "    product.price = -50\n",
    "except ValueError as e:\n",
    "    print(f\"Error: {e}\")\n",
    "del product.price"
   ]
  }
 ],
 "metadata": {
  "kernelspec": {
   "display_name": "base",
   "language": "python",
   "name": "python3"
  },
  "language_info": {
   "codemirror_mode": {
    "name": "ipython",
    "version": 3
   },
   "file_extension": ".py",
   "mimetype": "text/x-python",
   "name": "python",
   "nbconvert_exporter": "python",
   "pygments_lexer": "ipython3",
   "version": "3.12.7"
  }
 },
 "nbformat": 4,
 "nbformat_minor": 5
}
