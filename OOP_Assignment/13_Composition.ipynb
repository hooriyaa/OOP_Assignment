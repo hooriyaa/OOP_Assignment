{
 "cells": [
  {
   "cell_type": "code",
   "execution_count": null,
   "id": "44d0b9ae",
   "metadata": {},
   "outputs": [
    {
     "name": "stdout",
     "output_type": "stream",
     "text": [
      "V6 engine started\n"
     ]
    }
   ],
   "source": [
    "# 13. Composition - Engine and Vehicle\n",
    "\n",
    "class Engine:\n",
    "    def __init__(self, engine_type):\n",
    "        self.engine_type = engine_type\n",
    "    \n",
    "    def start(self):\n",
    "        print(f\"{self.engine_type} engine started\")\n",
    "\n",
    "class Vehicle:\n",
    "    def __init__(self, model, engine_type):\n",
    "        self.model = model\n",
    "        self.engine = Engine(engine_type)\n",
    "    \n",
    "    def start(self):\n",
    "        self.engine.start()\n",
    "\n",
    "# Test\n",
    "vehicle = Vehicle(\"Sedan\", \"V6\")\n",
    "vehicle.start()"
   ]
  }
 ],
 "metadata": {
  "kernelspec": {
   "display_name": "base",
   "language": "python",
   "name": "python3"
  },
  "language_info": {
   "codemirror_mode": {
    "name": "ipython",
    "version": 3
   },
   "file_extension": ".py",
   "mimetype": "text/x-python",
   "name": "python",
   "nbconvert_exporter": "python",
   "pygments_lexer": "ipython3",
   "version": "3.12.7"
  }
 },
 "nbformat": 4,
 "nbformat_minor": 5
}
