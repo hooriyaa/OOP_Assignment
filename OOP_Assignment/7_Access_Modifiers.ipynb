{
 "cells": [
  {
   "cell_type": "code",
   "execution_count": null,
   "id": "8cab42ed",
   "metadata": {},
   "outputs": [
    {
     "name": "stdout",
     "output_type": "stream",
     "text": [
      "John\n",
      "50000\n",
      "Error accessing private var: 'Employee' object has no attribute '__ssn'\n",
      "Access via method: 123-45-6789\n"
     ]
    }
   ],
   "source": [
    "# 7. Access Modifiers - Employee Class\n",
    "\n",
    "class Employee:\n",
    "    def __init__(self, name, salary, ssn):\n",
    "        self.name = name          # public\n",
    "        self._salary = salary     # protected\n",
    "        self.__ssn = ssn         # private\n",
    "    \n",
    "    def show_ssn(self):\n",
    "        return self.__ssn\n",
    "\n",
    "# Test\n",
    "emp = Employee(\"John\", 50000, \"123-45-6789\")\n",
    "print(emp.name)        # Public\n",
    "print(emp._salary)     # Protected (accessible but should be treated as non-public)\n",
    "try:\n",
    "    print(emp.__ssn)   # Private - will raise error\n",
    "except AttributeError as e:\n",
    "    print(f\"Error accessing private var: {e}\")\n",
    "print(\"Access via method:\", emp.show_ssn())"
   ]
  }
 ],
 "metadata": {
  "kernelspec": {
   "display_name": "base",
   "language": "python",
   "name": "python3"
  },
  "language_info": {
   "codemirror_mode": {
    "name": "ipython",
    "version": 3
   },
   "file_extension": ".py",
   "mimetype": "text/x-python",
   "name": "python",
   "nbconvert_exporter": "python",
   "pygments_lexer": "ipython3",
   "version": "3.12.7"
  }
 },
 "nbformat": 4,
 "nbformat_minor": 5
}
