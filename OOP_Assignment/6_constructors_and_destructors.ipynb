{
 "cells": [
  {
   "cell_type": "code",
   "execution_count": null,
   "id": "9eabc740",
   "metadata": {},
   "outputs": [
    {
     "name": "stdout",
     "output_type": "stream",
     "text": [
      "Logger Test created\n",
      "Logger Test destroyed\n"
     ]
    }
   ],
   "source": [
    "# 6. Constructors and Destructors - Logger Class\n",
    "\n",
    "class Logger:\n",
    "    def __init__(self, name):\n",
    "        self.name = name\n",
    "        print(f\"Logger {self.name} created\")\n",
    "    \n",
    "    def __del__(self):\n",
    "        print(f\"Logger {self.name} destroyed\")\n",
    "\n",
    "# Test\n",
    "logger = Logger(\"Test\")\n",
    "del logger"
   ]
  }
 ],
 "metadata": {
  "kernelspec": {
   "display_name": "base",
   "language": "python",
   "name": "python3"
  },
  "language_info": {
   "codemirror_mode": {
    "name": "ipython",
    "version": 3
   },
   "file_extension": ".py",
   "mimetype": "text/x-python",
   "name": "python",
   "nbconvert_exporter": "python",
   "pygments_lexer": "ipython3",
   "version": "3.12.7"
  }
 },
 "nbformat": 4,
 "nbformat_minor": 5
}
