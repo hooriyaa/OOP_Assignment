{
 "cells": [
  {
   "cell_type": "code",
   "execution_count": null,
   "id": "aedf4e7b",
   "metadata": {},
   "outputs": [
    {
     "name": "stdout",
     "output_type": "stream",
     "text": [
      "Generic Bank Generic Bank\n",
      "Generic Bank Generic Bank Super Bank\n"
     ]
    }
   ],
   "source": [
    "# 4. Class Variables and Methods - Bank Class\n",
    "\n",
    "class Bank:\n",
    "    bank_name = \"Generic Bank\"\n",
    "    \n",
    "    def __init__(self):\n",
    "        self.name = Bank.bank_name\n",
    "    \n",
    "    @classmethod\n",
    "    def change_bank_name(cls, name):\n",
    "        cls.bank_name = name\n",
    "\n",
    "# Test\n",
    "bank1 = Bank()\n",
    "bank2 = Bank()\n",
    "print(bank1.name, bank2.name)\n",
    "Bank.change_bank_name(\"Super Bank\")\n",
    "bank3 = Bank()\n",
    "print(bank1.name, bank2.name, bank3.name)"
   ]
  }
 ],
 "metadata": {
  "kernelspec": {
   "display_name": "base",
   "language": "python",
   "name": "python3"
  },
  "language_info": {
   "codemirror_mode": {
    "name": "ipython",
    "version": 3
   },
   "file_extension": ".py",
   "mimetype": "text/x-python",
   "name": "python",
   "nbconvert_exporter": "python",
   "pygments_lexer": "ipython3",
   "version": "3.12.7"
  }
 },
 "nbformat": 4,
 "nbformat_minor": 5
}
