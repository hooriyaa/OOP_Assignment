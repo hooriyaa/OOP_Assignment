{
 "cells": [
  {
   "cell_type": "code",
   "execution_count": null,
   "id": "2c471232",
   "metadata": {},
   "outputs": [
    {
     "name": "stdout",
     "output_type": "stream",
     "text": [
      "Total books: 2\n"
     ]
    }
   ],
   "source": [
    "# 11. Class Methods - Book Class\n",
    "class Book:\n",
    "    total_books = 0\n",
    "    \n",
    "    def __init__(self, title):\n",
    "        self.title = title\n",
    "        Book.increment_book_count()\n",
    "    \n",
    "    @classmethod\n",
    "    def increment_book_count(cls):\n",
    "        cls.total_books += 1\n",
    "\n",
    "# Test\n",
    "book1 = Book(\"Python 101\")\n",
    "book2 = Book(\"OOP Principles\")\n",
    "print(\"Total books:\", Book.total_books)"
   ]
  }
 ],
 "metadata": {
  "kernelspec": {
   "display_name": "base",
   "language": "python",
   "name": "python3"
  },
  "language_info": {
   "codemirror_mode": {
    "name": "ipython",
    "version": 3
   },
   "file_extension": ".py",
   "mimetype": "text/x-python",
   "name": "python",
   "nbconvert_exporter": "python",
   "pygments_lexer": "ipython3",
   "version": "3.12.7"
  }
 },
 "nbformat": 4,
 "nbformat_minor": 5
}
