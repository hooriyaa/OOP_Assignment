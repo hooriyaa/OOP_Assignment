{
 "cells": [
  {
   "cell_type": "code",
   "execution_count": null,
   "id": "63338f84",
   "metadata": {},
   "outputs": [
    {
     "name": "stdout",
     "output_type": "stream",
     "text": [
      "20°C is 68.0 °F\n"
     ]
    }
   ],
   "source": [
    "# 12. Static Methods - TemperatureConverter\n",
    "\n",
    "class TemperatureConverter:\n",
    "    @staticmethod\n",
    "    def celsius_to_fahrenheit(c):\n",
    "        return (c * 9/5) + 32\n",
    "\n",
    "# Test\n",
    "print(\"20°C is\", TemperatureConverter.celsius_to_fahrenheit(20), \"°F\")"
   ]
  }
 ],
 "metadata": {
  "kernelspec": {
   "display_name": "base",
   "language": "python",
   "name": "python3"
  },
  "language_info": {
   "codemirror_mode": {
    "name": "ipython",
    "version": 3
   },
   "file_extension": ".py",
   "mimetype": "text/x-python",
   "name": "python",
   "nbconvert_exporter": "python",
   "pygments_lexer": "ipython3",
   "version": "3.12.7"
  }
 },
 "nbformat": 4,
 "nbformat_minor": 5
}
