{
 "cells": [
  {
   "cell_type": "code",
   "execution_count": 1,
   "id": "43f41807",
   "metadata": {},
   "outputs": [
    {
     "name": "stdout",
     "output_type": "stream",
     "text": [
      "Is doubler callable? True\n",
      "Double of 5: 10\n"
     ]
    }
   ],
   "source": [
    "# 19. __call__ and callable()\n",
    "\n",
    "class Multiplier:\n",
    "    def __init__(self, factor):\n",
    "        self.factor = factor\n",
    "    \n",
    "    def __call__(self, x):\n",
    "        return x * self.factor\n",
    "\n",
    "# Test\n",
    "doubler = Multiplier(2)\n",
    "print(\"Is doubler callable?\", callable(doubler))\n",
    "print(\"Double of 5:\", doubler(5))"
   ]
  }
 ],
 "metadata": {
  "kernelspec": {
   "display_name": "base",
   "language": "python",
   "name": "python3"
  },
  "language_info": {
   "codemirror_mode": {
    "name": "ipython",
    "version": 3
   },
   "file_extension": ".py",
   "mimetype": "text/x-python",
   "name": "python",
   "nbconvert_exporter": "python",
   "pygments_lexer": "ipython3",
   "version": "3.12.7"
  }
 },
 "nbformat": 4,
 "nbformat_minor": 5
}
