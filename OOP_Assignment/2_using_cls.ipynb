{
 "cells": [
  {
   "cell_type": "code",
   "execution_count": 2,
   "id": "91c72150",
   "metadata": {},
   "outputs": [
    {
     "name": "stdout",
     "output_type": "stream",
     "text": [
      "Total objects created: 2\n"
     ]
    }
   ],
   "source": [
    "# 2. Using cls - Counter Class\n",
    "\n",
    "class Counter:\n",
    "    _count = 0\n",
    "    \n",
    "    def __init__(self):\n",
    "        Counter._count += 1\n",
    "    \n",
    "    @classmethod\n",
    "    def display_count(cls):\n",
    "        print(f\"Total objects created: {cls._count}\")\n",
    "\n",
    "# Test\n",
    "c1 = Counter()\n",
    "c2 = Counter()\n",
    "Counter.display_count()"
   ]
  }
 ],
 "metadata": {
  "kernelspec": {
   "display_name": "base",
   "language": "python",
   "name": "python3"
  },
  "language_info": {
   "codemirror_mode": {
    "name": "ipython",
    "version": 3
   },
   "file_extension": ".py",
   "mimetype": "text/x-python",
   "name": "python",
   "nbconvert_exporter": "python",
   "pygments_lexer": "ipython3",
   "version": "3.12.7"
  }
 },
 "nbformat": 4,
 "nbformat_minor": 5
}
