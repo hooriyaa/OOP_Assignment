{
 "cells": [
  {
   "cell_type": "code",
   "execution_count": null,
   "id": "8f042a01",
   "metadata": {},
   "outputs": [
    {
     "name": "stdout",
     "output_type": "stream",
     "text": [
      "HR department has employee Sarah\n"
     ]
    }
   ],
   "source": [
    "# 14. Aggregation - Department and Employee\n",
    "\n",
    "class EmployeeAgg:\n",
    "    def __init__(self, name):\n",
    "        self.name = name\n",
    "\n",
    "class Department:\n",
    "    def __init__(self, name, employees=None):\n",
    "        self.name = name\n",
    "        self.employees = employees if employees else []\n",
    "    \n",
    "    def add_employee(self, employee):\n",
    "        self.employees.append(employee)\n",
    "\n",
    "# Test\n",
    "emp1 = EmployeeAgg(\"Sarah\")\n",
    "dept = Department(\"HR\")\n",
    "dept.add_employee(emp1)\n",
    "print(f\"{dept.name} department has employee {dept.employees[0].name}\")\n"
   ]
  }
 ],
 "metadata": {
  "kernelspec": {
   "display_name": "base",
   "language": "python",
   "name": "python3"
  },
  "language_info": {
   "codemirror_mode": {
    "name": "ipython",
    "version": 3
   },
   "file_extension": ".py",
   "mimetype": "text/x-python",
   "name": "python",
   "nbconvert_exporter": "python",
   "pygments_lexer": "ipython3",
   "version": "3.12.7"
  }
 },
 "nbformat": 4,
 "nbformat_minor": 5
}
